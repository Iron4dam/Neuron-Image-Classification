{
 "cells": [
  {
   "cell_type": "code",
   "execution_count": 1,
   "metadata": {
    "ExecuteTime": {
     "end_time": "2019-06-24T14:37:25.668111Z",
     "start_time": "2019-06-24T14:37:24.350382Z"
    }
   },
   "outputs": [],
   "source": [
    "import jupyterthemes as jt\n",
    "from jupyterthemes import jtplot\n",
    "jtplot.style(theme='onedork')\n",
    "!jt -t onedork -ofs 12 -dfs 12 -fs 12 -cellw 100% -T # onedork, grade3\n",
    "#!jt -r\n",
    "# source activate rdkit && "
   ]
  },
  {
   "cell_type": "code",
   "execution_count": 2,
   "metadata": {
    "ExecuteTime": {
     "end_time": "2019-06-24T14:37:25.689954Z",
     "start_time": "2019-06-24T14:37:25.684276Z"
    }
   },
   "outputs": [],
   "source": [
    "import re, os, glob\n",
    "import image_slicer\n",
    "os.environ[\"CUDA_DEVICE_ORDER\"]=\"PCI_BUS_ID\"\n",
    "#os.environ[\"CUDA_VISIBLE_DEVICES\"]=\"5,6,7,8\"\n",
    "os.environ[\"CUDA_VISIBLE_DEVICES\"]=\"8\""
   ]
  },
  {
   "cell_type": "code",
   "execution_count": 3,
   "metadata": {
    "ExecuteTime": {
     "end_time": "2019-06-24T14:37:26.834292Z",
     "start_time": "2019-06-24T14:37:25.698784Z"
    }
   },
   "outputs": [],
   "source": [
    "from fastai import *\n",
    "from fastai.vision import *\n",
    "from fastai.core import *\n",
    "from fastai.callbacks.hooks import *\n",
    "from fastai.metrics import error_rate\n",
    "import matplotlib.pyplot as plt\n",
    "import re, os, glob\n",
    "import torch\n",
    "from PIL import Image"
   ]
  },
  {
   "cell_type": "code",
   "execution_count": 4,
   "metadata": {
    "ExecuteTime": {
     "end_time": "2019-06-24T14:37:26.862471Z",
     "start_time": "2019-06-24T14:37:26.859991Z"
    }
   },
   "outputs": [],
   "source": [
    "from patches import extract_patches_2d\n",
    "from patches import reconstruct_from_patches_2d"
   ]
  },
  {
   "cell_type": "code",
   "execution_count": 5,
   "metadata": {
    "ExecuteTime": {
     "end_time": "2019-06-24T14:37:26.888299Z",
     "start_time": "2019-06-24T14:37:26.885691Z"
    }
   },
   "outputs": [],
   "source": [
    "base_path = os.path.join('/mnt', 'sdf')\n",
    "path_to_images = os.path.join(base_path, 'training_data')\n",
    "path_to_dfs = os.path.join(base_path, 'training_data', 'dfs')"
   ]
  },
  {
   "cell_type": "code",
   "execution_count": 6,
   "metadata": {
    "ExecuteTime": {
     "end_time": "2019-06-24T14:37:27.121954Z",
     "start_time": "2019-06-24T14:37:26.911351Z"
    }
   },
   "outputs": [],
   "source": [
    "# create a single dataframe with all file names and labels\n",
    "dfs_filenames = glob.glob(os.path.join(path_to_dfs, '*.csv'))  \n",
    "# return a list of csv in the path\n",
    "# each csv name represents a candidate drug name?\n",
    "\n",
    "dfs = []\n",
    "for filename_i in dfs_filenames:\n",
    "    dfs.append(pd.read_csv(filename_i))\n",
    "    \n",
    "dfs = pd.concat(dfs, axis=0)"
   ]
  },
  {
   "cell_type": "code",
   "execution_count": 7,
   "metadata": {
    "ExecuteTime": {
     "end_time": "2019-06-24T14:37:27.225628Z",
     "start_time": "2019-06-24T14:37:27.164268Z"
    }
   },
   "outputs": [],
   "source": [
    "# validation of the data set\n",
    "\n",
    "a_0 = dfs.filename_new.tolist()\n",
    "a_0_new = ['/mnt/sdf/training_data/' + i for i in a_0]\n",
    "b_0 = glob.glob(os.path.join(path_to_images, '*.tif'))\n",
    "\n",
    "# more file names than actual image files\n",
    "\n",
    "missing_files = list(set(a_0_new) - set(b_0))\n",
    "missing_files = [re.sub('/mnt/sdf/training_data/', '',i) for i in missing_files]\n",
    "missing_files += ['caroline_2018 fixations_4 - april_cmap 5 - fix 15-3-18_3 - doxylamine_40x_6-4-18_40x_assay plate 0_3_2018.04.06.20.10.49_d - 4(fld 28 wv red - cy5).tif']"
   ]
  },
  {
   "cell_type": "code",
   "execution_count": 8,
   "metadata": {
    "ExecuteTime": {
     "end_time": "2019-06-24T14:37:27.313698Z",
     "start_time": "2019-06-24T14:37:27.305314Z"
    }
   },
   "outputs": [],
   "source": [
    "dfs = dfs[~(dfs.filename_new.isin(missing_files))].copy()"
   ]
  },
  {
   "cell_type": "code",
   "execution_count": 9,
   "metadata": {
    "ExecuteTime": {
     "end_time": "2019-06-24T14:37:27.398791Z",
     "start_time": "2019-06-24T14:37:27.390920Z"
    }
   },
   "outputs": [
    {
     "data": {
      "text/plain": [
       "ab     8264\n",
       "veh    8260\n",
       "Name: treatment, dtype: int64"
      ]
     },
     "execution_count": 9,
     "metadata": {},
     "output_type": "execute_result"
    }
   ],
   "source": [
    "dfs.treatment.value_counts()"
   ]
  },
  {
   "cell_type": "markdown",
   "metadata": {},
   "source": [
    "# Splitting images"
   ]
  },
  {
   "cell_type": "code",
   "execution_count": 10,
   "metadata": {
    "ExecuteTime": {
     "end_time": "2019-06-24T14:37:27.570499Z",
     "start_time": "2019-06-24T14:37:27.472516Z"
    }
   },
   "outputs": [],
   "source": [
    "import torch\n",
    "from torch.utils import data\n",
    "import torchvision\n",
    "import cv2\n",
    "from torchvision import transforms"
   ]
  },
  {
   "cell_type": "code",
   "execution_count": 13,
   "metadata": {
    "ExecuteTime": {
     "end_time": "2019-06-24T14:38:01.234159Z",
     "start_time": "2019-06-24T14:38:01.228696Z"
    }
   },
   "outputs": [],
   "source": [
    "def pil_loader(path):\n",
    "    # open path as file to avoid ResourceWarning (https://github.com/python-pillow/Pillow/issues/835)\n",
    "    with open(path, 'rb') as f:\n",
    "        img = Image.open(f)\n",
    "        return img.convert('RGB')"
   ]
  },
  {
   "cell_type": "code",
   "execution_count": 23,
   "metadata": {
    "ExecuteTime": {
     "end_time": "2019-06-24T14:44:09.903672Z",
     "start_time": "2019-06-24T14:44:09.898651Z"
    }
   },
   "outputs": [],
   "source": [
    "transform1 = transforms.ToTensor()"
   ]
  },
  {
   "cell_type": "code",
   "execution_count": 24,
   "metadata": {
    "ExecuteTime": {
     "end_time": "2019-06-24T14:44:11.592420Z",
     "start_time": "2019-06-24T14:44:11.584460Z"
    }
   },
   "outputs": [],
   "source": [
    "class TileImageList(ImageList):\n",
    "    def __init__(self, segments_per_image=4, *args, **kwargs):\n",
    "        super().__init__(*args, **kwargs)\n",
    "        self.segments_per_image = segments_per_image\n",
    "\n",
    "        \n",
    "    def __len__(self):\n",
    "        'Denotes the total number of samples'\n",
    "        return len(self.sizes)*self.segments_per_image\n",
    "    \n",
    "    def get_image_segment(self, full_image, segment_idx):\n",
    "        a = full_image.chunk(2, dim=1)\n",
    "        if segment_idx < 3:\n",
    "            b = a[0].chunk(2, dim=2)\n",
    "            return b[segment_idx-1]\n",
    "        else: \n",
    "            b = a[1].chunk(2, dim=2)\n",
    "            return b[segment_idx-3]\n",
    "\n",
    "    def get(self, i):\n",
    "        #segment_idx = self.segment_idxs[i]\n",
    "        segment_idx = i%self.segments_per_image\n",
    "        image_ID = i//self.segments_per_image\n",
    "#         fn = super().get(image_ID)   # return self.items[i]\n",
    "#         self.open(fn)\n",
    "        image = self.items[image_ID]\n",
    "        image = pil_loader(image)  #cv2.imread('/mnt/sdf/training_data/'+image)\n",
    "        image = transform1(image)\n",
    "\n",
    "        res = self.get_image_segment(image, segment_idx)\n",
    "\n",
    "        self.sizes[i] = res.size\n",
    "        return res"
   ]
  },
  {
   "cell_type": "code",
   "execution_count": 18,
   "metadata": {
    "ExecuteTime": {
     "end_time": "2019-06-24T14:41:04.144200Z",
     "start_time": "2019-06-24T14:41:03.884865Z"
    }
   },
   "outputs": [
    {
     "data": {
      "text/plain": [
       "ImageList (16524 items)\n",
       "Image (3, 2048, 2048),Image (3, 2048, 2048),Image (3, 2048, 2048),Image (3, 2048, 2048),Image (3, 2048, 2048)\n",
       "Path: /mnt/sdf/training_data"
      ]
     },
     "execution_count": 18,
     "metadata": {},
     "output_type": "execute_result"
    }
   ],
   "source": [
    "imlist = ImageList.from_df(dfs[['filename_new','treatment']], path='/mnt/sdf/training_data')\n",
    "imlist"
   ]
  },
  {
   "cell_type": "code",
   "execution_count": 19,
   "metadata": {
    "ExecuteTime": {
     "end_time": "2019-06-24T14:41:13.597924Z",
     "start_time": "2019-06-24T14:41:13.333019Z"
    }
   },
   "outputs": [
    {
     "data": {
      "text/plain": [
       "TileImageList (16524 items)\n",
       "tensor([[[0.4039, 0.4431, 0.4588,  ..., 0.3725, 0.4275, 0.4078],\n",
       "         [0.4431, 0.4431, 0.4431,  ..., 0.4431, 0.3765, 0.3725],\n",
       "         [0.4314, 0.4745, 0.4353,  ..., 0.3804, 0.4078, 0.4000],\n",
       "         ...,\n",
       "         [0.5373, 0.6549, 0.7569,  ..., 0.6118, 0.5608, 0.6157],\n",
       "         [0.5412, 0.6392, 0.7647,  ..., 0.5333, 0.5294, 0.6157],\n",
       "         [0.5412, 0.5961, 0.8353,  ..., 0.5608, 0.4627, 0.6314]],\n",
       "\n",
       "        [[0.4039, 0.4431, 0.4588,  ..., 0.3725, 0.4275, 0.4078],\n",
       "         [0.4431, 0.4431, 0.4431,  ..., 0.4431, 0.3765, 0.3725],\n",
       "         [0.4314, 0.4745, 0.4353,  ..., 0.3804, 0.4078, 0.4000],\n",
       "         ...,\n",
       "         [0.5373, 0.6549, 0.7569,  ..., 0.6118, 0.5608, 0.6157],\n",
       "         [0.5412, 0.6392, 0.7647,  ..., 0.5333, 0.5294, 0.6157],\n",
       "         [0.5412, 0.5961, 0.8353,  ..., 0.5608, 0.4627, 0.6314]],\n",
       "\n",
       "        [[0.4039, 0.4431, 0.4588,  ..., 0.3725, 0.4275, 0.4078],\n",
       "         [0.4431, 0.4431, 0.4431,  ..., 0.4431, 0.3765, 0.3725],\n",
       "         [0.4314, 0.4745, 0.4353,  ..., 0.3804, 0.4078, 0.4000],\n",
       "         ...,\n",
       "         [0.5373, 0.6549, 0.7569,  ..., 0.6118, 0.5608, 0.6157],\n",
       "         [0.5412, 0.6392, 0.7647,  ..., 0.5333, 0.5294, 0.6157],\n",
       "         [0.5412, 0.5961, 0.8353,  ..., 0.5608, 0.4627, 0.6314]]]),tensor([[[0.5765, 0.6235, 0.5490,  ..., 0.4510, 0.4235, 0.4588],\n",
       "         [0.5412, 0.5529, 0.5608,  ..., 0.4392, 0.4471, 0.4588],\n",
       "         [0.5255, 0.5765, 0.5686,  ..., 0.4471, 0.4667, 0.4588],\n",
       "         ...,\n",
       "         [0.4196, 0.4392, 0.4745,  ..., 0.4431, 0.4667, 0.3490],\n",
       "         [0.4314, 0.4314, 0.4627,  ..., 0.5255, 0.4627, 0.5490],\n",
       "         [0.4314, 0.4549, 0.4118,  ..., 0.4824, 0.5765, 0.5373]],\n",
       "\n",
       "        [[0.5765, 0.6235, 0.5490,  ..., 0.4510, 0.4235, 0.4588],\n",
       "         [0.5412, 0.5529, 0.5608,  ..., 0.4392, 0.4471, 0.4588],\n",
       "         [0.5255, 0.5765, 0.5686,  ..., 0.4471, 0.4667, 0.4588],\n",
       "         ...,\n",
       "         [0.4196, 0.4392, 0.4745,  ..., 0.4431, 0.4667, 0.3490],\n",
       "         [0.4314, 0.4314, 0.4627,  ..., 0.5255, 0.4627, 0.5490],\n",
       "         [0.4314, 0.4549, 0.4118,  ..., 0.4824, 0.5765, 0.5373]],\n",
       "\n",
       "        [[0.5765, 0.6235, 0.5490,  ..., 0.4510, 0.4235, 0.4588],\n",
       "         [0.5412, 0.5529, 0.5608,  ..., 0.4392, 0.4471, 0.4588],\n",
       "         [0.5255, 0.5765, 0.5686,  ..., 0.4471, 0.4667, 0.4588],\n",
       "         ...,\n",
       "         [0.4196, 0.4392, 0.4745,  ..., 0.4431, 0.4667, 0.3490],\n",
       "         [0.4314, 0.4314, 0.4627,  ..., 0.5255, 0.4627, 0.5490],\n",
       "         [0.4314, 0.4549, 0.4118,  ..., 0.4824, 0.5765, 0.5373]]]),tensor([[[0.4039, 0.4431, 0.4588,  ..., 0.3725, 0.4275, 0.4078],\n",
       "         [0.4431, 0.4431, 0.4431,  ..., 0.4431, 0.3765, 0.3725],\n",
       "         [0.4314, 0.4745, 0.4353,  ..., 0.3804, 0.4078, 0.4000],\n",
       "         ...,\n",
       "         [0.5373, 0.6549, 0.7569,  ..., 0.6118, 0.5608, 0.6157],\n",
       "         [0.5412, 0.6392, 0.7647,  ..., 0.5333, 0.5294, 0.6157],\n",
       "         [0.5412, 0.5961, 0.8353,  ..., 0.5608, 0.4627, 0.6314]],\n",
       "\n",
       "        [[0.4039, 0.4431, 0.4588,  ..., 0.3725, 0.4275, 0.4078],\n",
       "         [0.4431, 0.4431, 0.4431,  ..., 0.4431, 0.3765, 0.3725],\n",
       "         [0.4314, 0.4745, 0.4353,  ..., 0.3804, 0.4078, 0.4000],\n",
       "         ...,\n",
       "         [0.5373, 0.6549, 0.7569,  ..., 0.6118, 0.5608, 0.6157],\n",
       "         [0.5412, 0.6392, 0.7647,  ..., 0.5333, 0.5294, 0.6157],\n",
       "         [0.5412, 0.5961, 0.8353,  ..., 0.5608, 0.4627, 0.6314]],\n",
       "\n",
       "        [[0.4039, 0.4431, 0.4588,  ..., 0.3725, 0.4275, 0.4078],\n",
       "         [0.4431, 0.4431, 0.4431,  ..., 0.4431, 0.3765, 0.3725],\n",
       "         [0.4314, 0.4745, 0.4353,  ..., 0.3804, 0.4078, 0.4000],\n",
       "         ...,\n",
       "         [0.5373, 0.6549, 0.7569,  ..., 0.6118, 0.5608, 0.6157],\n",
       "         [0.5412, 0.6392, 0.7647,  ..., 0.5333, 0.5294, 0.6157],\n",
       "         [0.5412, 0.5961, 0.8353,  ..., 0.5608, 0.4627, 0.6314]]]),tensor([[[0.4549, 0.4392, 0.3882,  ..., 0.4549, 0.4980, 0.4627],\n",
       "         [0.4745, 0.4235, 0.3961,  ..., 0.4824, 0.4627, 0.4745],\n",
       "         [0.4353, 0.4431, 0.4157,  ..., 0.4667, 0.4627, 0.4784],\n",
       "         ...,\n",
       "         [0.4980, 0.4667, 0.4941,  ..., 1.0000, 1.0000, 1.0000],\n",
       "         [0.5137, 0.4863, 0.5176,  ..., 1.0000, 1.0000, 1.0000],\n",
       "         [0.4471, 0.5098, 0.5176,  ..., 1.0000, 1.0000, 1.0000]],\n",
       "\n",
       "        [[0.4549, 0.4392, 0.3882,  ..., 0.4549, 0.4980, 0.4627],\n",
       "         [0.4745, 0.4235, 0.3961,  ..., 0.4824, 0.4627, 0.4745],\n",
       "         [0.4353, 0.4431, 0.4157,  ..., 0.4667, 0.4627, 0.4784],\n",
       "         ...,\n",
       "         [0.4980, 0.4667, 0.4941,  ..., 1.0000, 1.0000, 1.0000],\n",
       "         [0.5137, 0.4863, 0.5176,  ..., 1.0000, 1.0000, 1.0000],\n",
       "         [0.4471, 0.5098, 0.5176,  ..., 1.0000, 1.0000, 1.0000]],\n",
       "\n",
       "        [[0.4549, 0.4392, 0.3882,  ..., 0.4549, 0.4980, 0.4627],\n",
       "         [0.4745, 0.4235, 0.3961,  ..., 0.4824, 0.4627, 0.4745],\n",
       "         [0.4353, 0.4431, 0.4157,  ..., 0.4667, 0.4627, 0.4784],\n",
       "         ...,\n",
       "         [0.4980, 0.4667, 0.4941,  ..., 1.0000, 1.0000, 1.0000],\n",
       "         [0.5137, 0.4863, 0.5176,  ..., 1.0000, 1.0000, 1.0000],\n",
       "         [0.4471, 0.5098, 0.5176,  ..., 1.0000, 1.0000, 1.0000]]]),tensor([[[0.5020, 0.5216, 0.5333,  ..., 0.5412, 0.5765, 0.5333],\n",
       "         [0.5294, 0.5882, 0.5882,  ..., 0.5843, 0.5569, 0.6235],\n",
       "         [0.6392, 0.5490, 0.5255,  ..., 0.6078, 0.5255, 0.4784],\n",
       "         ...,\n",
       "         [1.0000, 1.0000, 1.0000,  ..., 0.4980, 0.4980, 0.4784],\n",
       "         [1.0000, 1.0000, 1.0000,  ..., 0.4118, 0.4784, 0.5608],\n",
       "         [1.0000, 1.0000, 1.0000,  ..., 0.4980, 0.4902, 0.5451]],\n",
       "\n",
       "        [[0.5020, 0.5216, 0.5333,  ..., 0.5412, 0.5765, 0.5333],\n",
       "         [0.5294, 0.5882, 0.5882,  ..., 0.5843, 0.5569, 0.6235],\n",
       "         [0.6392, 0.5490, 0.5255,  ..., 0.6078, 0.5255, 0.4784],\n",
       "         ...,\n",
       "         [1.0000, 1.0000, 1.0000,  ..., 0.4980, 0.4980, 0.4784],\n",
       "         [1.0000, 1.0000, 1.0000,  ..., 0.4118, 0.4784, 0.5608],\n",
       "         [1.0000, 1.0000, 1.0000,  ..., 0.4980, 0.4902, 0.5451]],\n",
       "\n",
       "        [[0.5020, 0.5216, 0.5333,  ..., 0.5412, 0.5765, 0.5333],\n",
       "         [0.5294, 0.5882, 0.5882,  ..., 0.5843, 0.5569, 0.6235],\n",
       "         [0.6392, 0.5490, 0.5255,  ..., 0.6078, 0.5255, 0.4784],\n",
       "         ...,\n",
       "         [1.0000, 1.0000, 1.0000,  ..., 0.4980, 0.4980, 0.4784],\n",
       "         [1.0000, 1.0000, 1.0000,  ..., 0.4118, 0.4784, 0.5608],\n",
       "         [1.0000, 1.0000, 1.0000,  ..., 0.4980, 0.4902, 0.5451]]])\n",
       "Path: /mnt/sdf/training_data"
      ]
     },
     "execution_count": 19,
     "metadata": {},
     "output_type": "execute_result"
    }
   ],
   "source": [
    "imdata = TileImageList.from_df(dfs[['filename_new','treatment']], path='/mnt/sdf/training_data')\n",
    "imdata"
   ]
  },
  {
   "cell_type": "code",
   "execution_count": 20,
   "metadata": {
    "ExecuteTime": {
     "end_time": "2019-06-24T14:41:29.977433Z",
     "start_time": "2019-06-24T14:41:29.963184Z"
    }
   },
   "outputs": [],
   "source": [
    "split_imdata = imdata.split_by_rand_pct()"
   ]
  },
  {
   "cell_type": "code",
   "execution_count": 22,
   "metadata": {
    "ExecuteTime": {
     "end_time": "2019-06-24T14:42:46.345579Z",
     "start_time": "2019-06-24T14:42:46.330346Z"
    }
   },
   "outputs": [
    {
     "ename": "AttributeError",
     "evalue": "'TileImageList' object has no attribute 'show_batch'",
     "output_type": "error",
     "traceback": [
      "\u001b[0;31m---------------------------------------------------------------------------\u001b[0m",
      "\u001b[0;31mAttributeError\u001b[0m                            Traceback (most recent call last)",
      "\u001b[0;32m<ipython-input-22-678cbc428f93>\u001b[0m in \u001b[0;36m<module>\u001b[0;34m\u001b[0m\n\u001b[0;32m----> 1\u001b[0;31m \u001b[0mimdata\u001b[0m\u001b[0;34m.\u001b[0m\u001b[0mshow_batch\u001b[0m\u001b[0;34m(\u001b[0m\u001b[0;34m)\u001b[0m\u001b[0;34m\u001b[0m\u001b[0;34m\u001b[0m\u001b[0m\n\u001b[0m",
      "\u001b[0;31mAttributeError\u001b[0m: 'TileImageList' object has no attribute 'show_batch'"
     ]
    }
   ],
   "source": [
    "imdata.show_batch()"
   ]
  },
  {
   "cell_type": "code",
   "execution_count": null,
   "metadata": {},
   "outputs": [],
   "source": []
  }
 ],
 "metadata": {
  "kernelspec": {
   "display_name": "adam_kernel",
   "language": "python",
   "name": "adam"
  },
  "language_info": {
   "codemirror_mode": {
    "name": "ipython",
    "version": 3
   },
   "file_extension": ".py",
   "mimetype": "text/x-python",
   "name": "python",
   "nbconvert_exporter": "python",
   "pygments_lexer": "ipython3",
   "version": "3.7.3"
  },
  "varInspector": {
   "cols": {
    "lenName": 16,
    "lenType": 16,
    "lenVar": 40
   },
   "kernels_config": {
    "python": {
     "delete_cmd_postfix": "",
     "delete_cmd_prefix": "del ",
     "library": "var_list.py",
     "varRefreshCmd": "print(var_dic_list())"
    },
    "r": {
     "delete_cmd_postfix": ") ",
     "delete_cmd_prefix": "rm(",
     "library": "var_list.r",
     "varRefreshCmd": "cat(var_dic_list()) "
    }
   },
   "types_to_exclude": [
    "module",
    "function",
    "builtin_function_or_method",
    "instance",
    "_Feature"
   ],
   "window_display": false
  }
 },
 "nbformat": 4,
 "nbformat_minor": 2
}
