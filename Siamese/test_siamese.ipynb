{
 "cells": [
  {
   "cell_type": "code",
   "execution_count": 7,
   "metadata": {},
   "outputs": [],
   "source": [
    "from siamese_utils import PseudoSiamese\n",
    "from PIL import Image\n",
    "import pandas as pd\n",
    "from torch.utils.data.dataset import Dataset\n",
    "from torch.utils.data import DataLoader\n",
    "from torchvision import transforms\n",
    "import torch\n",
    "import matplotlib.pyplot as plt\n",
    "import numpy as np\n",
    "import cv2"
   ]
  },
  {
   "cell_type": "code",
   "execution_count": 8,
   "metadata": {},
   "outputs": [],
   "source": [
    "class mydataset(object):\n",
    "\n",
    "\tdef __init__(self, x0, x1, label):\n",
    "\t\tself.size = len(label)\n",
    "\t\tself.x0 = torch.from_numpy(x0)\n",
    "\t\tself.x1 = torch.from_numpy(x1)\n",
    "\t\tself.label = label\n",
    "\n",
    "\tdef __getitem__(self, index):\n",
    "\t\treturn (self.x0[index],\n",
    "\t\t\t\tself.x1[index],\n",
    "\t\t\t\tself.label[index])\n",
    "\n",
    "\tdef __len__(self):\n",
    "\t\treturn self.size"
   ]
  },
  {
   "cell_type": "code",
   "execution_count": 11,
   "metadata": {},
   "outputs": [],
   "source": [
    "filenames_1 = ['f03.tif','f04.tif','f05.tif','f06.tif','f07.tif','f08.tif','f09.tif','f10.tif','f11.tif','f12.tif',\n",
    "'f13.tif','f14.tif','f15.tif','f16.tif','f17.tif','f18.tif','f19.tif','f20.tif','f21.tif','f22.tif']\n",
    "filenames_2 = ['f03.tif','f04.tif','f05.tif','f06.tif','f07.tif','f08.tif','f09.tif','f10.tif','f11.tif','f12.tif',\n",
    "'f13.tif','f14.tif','f15.tif','f16.tif','f17.tif','f18.tif','f19.tif','f20.tif','f21.tif','f22.tif']\n",
    "labels = ['ab','ab','ab','ab','ab','veh','veh','veh','veh','veh',\n",
    "'ab','ab','ab','ab','ab','veh','veh','veh','veh','veh']\n",
    "\n",
    "train_filenames = ['f03.tif','f04.tif','f05.tif','f06.tif','f07.tif','f08.tif','f09.tif','f10.tif','f11.tif','f12.tif']\n",
    "train_labels = ['ab','ab','ab','ab','ab','veh','veh','veh','veh','veh']\n",
    "\n",
    "valid_filenames_1 = ['f13.tif','f14.tif','f15.tif','f16.tif','f17.tif','f18.tif','f19.tif','f20.tif','f21.tif','f22.tif']\n",
    "valid_filenames_2 = ['f13.tif','f14.tif','f15.tif','f16.tif','f17.tif','f18.tif','f19.tif','f20.tif','f21.tif','f22.tif']\n",
    "valid_labels = ['ab','ab','ab','ab','ab','veh','veh','veh','veh','veh']\n",
    "\n",
    "df = pd.DataFrame({'filenames':filenames_1, 'labels':labels})"
   ]
  },
  {
   "cell_type": "code",
   "execution_count": 12,
   "metadata": {},
   "outputs": [],
   "source": [
    "# creating pairs\n",
    "x0_data = []\n",
    "x1_data = []\n",
    "for i in range(len(filenames_1)):\n",
    "    img_1 = cv2.imread('/Users/iron4dam/Desktop/Neuron-Image-Classification/training_data/'+filenames_1[i])\n",
    "    img_2 = cv2.imread('/Users/iron4dam/Desktop/Neuron-Image-Classification/training_data/'+filenames_2[i])\n",
    "    x0_data.append(img_1/255.)\n",
    "    x1_data.append(img_2/255.)"
   ]
  },
  {
   "cell_type": "code",
   "execution_count": 13,
   "metadata": {},
   "outputs": [],
   "source": [
    "x0_data = np.array(x0_data, dtype=np.float32)\n",
    "x1_data = np.array(x1_data, dtype=np.float32)"
   ]
  },
  {
   "cell_type": "code",
   "execution_count": 14,
   "metadata": {},
   "outputs": [
    {
     "data": {
      "text/plain": [
       "(20, 2048, 2048, 3)"
      ]
     },
     "execution_count": 14,
     "metadata": {},
     "output_type": "execute_result"
    }
   ],
   "source": [
    "x0_data.shape"
   ]
  },
  {
   "cell_type": "code",
   "execution_count": 15,
   "metadata": {},
   "outputs": [],
   "source": [
    "x0_data = x0_data.reshape([-1,3,2048,2048])\n",
    "x1_data = x1_data.reshape([-1,3,2048,2048])"
   ]
  },
  {
   "cell_type": "code",
   "execution_count": 16,
   "metadata": {},
   "outputs": [
    {
     "data": {
      "text/plain": [
       "array([0, 0, 0, 0, 0, 1, 1, 1, 1, 1, 0, 0, 0, 0, 0, 1, 1, 1, 1, 1])"
      ]
     },
     "execution_count": 16,
     "metadata": {},
     "output_type": "execute_result"
    }
   ],
   "source": [
    "labels_new = pd.factorize(labels)[0]\n",
    "labels_new"
   ]
  },
  {
   "cell_type": "code",
   "execution_count": 17,
   "metadata": {},
   "outputs": [
    {
     "data": {
      "text/plain": [
       "<__main__.mydataset at 0x127087860>"
      ]
     },
     "execution_count": 17,
     "metadata": {},
     "output_type": "execute_result"
    }
   ],
   "source": [
    "mydataset(x0_data,x1_data,labels_new)"
   ]
  },
  {
   "cell_type": "code",
   "execution_count": 18,
   "metadata": {},
   "outputs": [],
   "source": [
    "model = PseudoSiamese()"
   ]
  },
  {
   "cell_type": "code",
   "execution_count": null,
   "metadata": {},
   "outputs": [],
   "source": []
  }
 ],
 "metadata": {
  "kernelspec": {
   "display_name": "rdkit_kernel",
   "language": "python",
   "name": "rdkit_kernel"
  },
  "language_info": {
   "codemirror_mode": {
    "name": "ipython",
    "version": 3
   },
   "file_extension": ".py",
   "mimetype": "text/x-python",
   "name": "python",
   "nbconvert_exporter": "python",
   "pygments_lexer": "ipython3",
   "version": "3.6.7"
  },
  "varInspector": {
   "cols": {
    "lenName": 16,
    "lenType": 16,
    "lenVar": 40
   },
   "kernels_config": {
    "python": {
     "delete_cmd_postfix": "",
     "delete_cmd_prefix": "del ",
     "library": "var_list.py",
     "varRefreshCmd": "print(var_dic_list())"
    },
    "r": {
     "delete_cmd_postfix": ") ",
     "delete_cmd_prefix": "rm(",
     "library": "var_list.r",
     "varRefreshCmd": "cat(var_dic_list()) "
    }
   },
   "types_to_exclude": [
    "module",
    "function",
    "builtin_function_or_method",
    "instance",
    "_Feature"
   ],
   "window_display": false
  }
 },
 "nbformat": 4,
 "nbformat_minor": 2
}
